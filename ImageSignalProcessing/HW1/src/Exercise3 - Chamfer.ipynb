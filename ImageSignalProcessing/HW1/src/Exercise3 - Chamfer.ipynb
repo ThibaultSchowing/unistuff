{
 "cells": [
  {
   "cell_type": "markdown",
   "metadata": {},
   "source": [
    "# Chamfer distance maps"
   ]
  },
  {
   "cell_type": "code",
   "execution_count": 66,
   "metadata": {},
   "outputs": [
    {
     "name": "stdout",
     "output_type": "stream",
     "text": [
      "shapes\\circle.png\n",
      "Second pass - BR to TL\n",
      "shapes\\rect.png\n",
      "Second pass - BR to TL\n",
      "shapes\\spiral.png\n",
      "Second pass - BR to TL\n",
      "shapes\\triangle.png\n",
      "Second pass - BR to TL\n"
     ]
    },
    {
     "data": {
      "image/png": "[encoded data removed]",
      "text/plain": [
       "<Figure size 432x288 with 8 Axes>"
      ]
     },
     "metadata": {
      "needs_background": "light"
     },
     "output_type": "display_data"
    }
   ],
   "source": [
    "\"\"\"\n",
    "\n",
    "Introduction to Signal and Image Processing\n",
    "Homework 1\n",
    "\n",
    "Created on Tue Mar 3, 2020\n",
    "@author: Thibault Schowing\n",
    "    \n",
    "\"\"\"\n",
    "\n",
    "import glob\n",
    "import os\n",
    "import numpy as np\n",
    "import math # for Chamfering Algorithm\n",
    "import matplotlib.pyplot as plt\n",
    "\n",
    "from matplotlib.image import imread\n",
    "\n",
    "# load shapes\n",
    "shapes = glob.glob(os.path.join('shapes', '*.png'))\n",
    "\n",
    "def L1(v,w):\n",
    "    # Mannathan distance \n",
    "    return abs(v[0]-w[0]) + abs(v[1] - w[1])\n",
    "\n",
    "# For every picture\n",
    "for i, shape in enumerate(shapes):\n",
    "    print(shape)\n",
    "    # Convert shape path to np.array\n",
    "    edge_map = imread(shape)\n",
    "    edge_map = np.array(edge_map)\n",
    "    \n",
    "    \n",
    "    # Init distance_map with 0 or infinity\n",
    "    distance_map = np.zeros(edge_map.shape)\n",
    "    distance_map = np.where(edge_map > (0.),0, np.inf)\n",
    "    \n",
    "    ##############################################\n",
    "    # For every pixel TL to BR\n",
    "    # goes from top left to bottom right line by line\n",
    "    # + 1 because we search for the pos -1 vertically and orizontally (avoid out of bound)\n",
    "    \n",
    "    for line in range(0+1,distance_map.shape[0]-1):\n",
    "        for row in range(0+1,distance_map.shape[1]-1):\n",
    "            # The x pixel is ad pos [line, row]\n",
    "            # All these pixels px are \"q\"\n",
    "            # cpx are the coordinates -> for L1-norm\n",
    "            # It's not compact but it's readable\n",
    "            p1 = distance_map[line-1, row-1]\n",
    "            cp1 = [line-1, row-1]\n",
    "            p2 = distance_map[line-1, row]\n",
    "            cp2 = [line-1, row]\n",
    "            p3 = distance_map[line, row-1]\n",
    "            cp3 = [line, row-1]\n",
    "            p4 = x = distance_map[line, row] # this is x so L1(x,p4) is zero\n",
    "            cp4 = cx = [line, row]\n",
    "            p5 = distance_map[line+1, row-1]\n",
    "            cp5 = [line+1, row-1]\n",
    "            \n",
    "            distance_map[line,row] = min((L1(cx,cp1) + p1),(L1(cx,cp2) + p2),(L1(cx,cp3) + p3),(L1(cx,cp4) + p4),(L1(cx,cp5) + p5))\n",
    "    \n",
    "    # now with BR\n",
    "    for row in range(distance_map.shape[1]-2,0+1, -1):\n",
    "        for line in range(distance_map.shape[0]-2,0, -1):\n",
    "            p1 = distance_map[line-1, row+1]\n",
    "            cp1 = [line-1, row+1]\n",
    "            p2 = x = distance_map[line, row]\n",
    "            cp2 = cx = [line, row]\n",
    "            p3 = distance_map[line, row+1]\n",
    "            cp3 = [line, row+1]\n",
    "            p4 = distance_map[line+1, row]\n",
    "            cp4 = [line+1, row]\n",
    "            p5 = distance_map[line+1, row+1]\n",
    "            cp5 = [line+1, row+1]\n",
    "            \n",
    "            distance_map[line,row] = min((L1(cx,cp1) + p1),(L1(cx,cp2) + p2),(L1(cx,cp3) + p3),(L1(cx,cp4) + p4),(L1(cx,cp5) + p5))\n",
    "    \n",
    "    \n",
    "    ##############################################\n",
    "    \n",
    "    # Just gives the position for the final img display\n",
    "    k, l = 1+i,5+i\n",
    "    plt.subplot(2, len(shapes), k)\n",
    "    plt.imshow(edge_map, cmap='gray')\n",
    "    plt.subplot(2, len(shapes), l)\n",
    "    plt.imshow(distance_map)#, cmap='gray')\n",
    "\n",
    "\n",
    "\n",
    "plt.show()"
   ]
  },
  {
   "cell_type": "markdown",
   "metadata": {},
   "source": []
  },
  {
   "cell_type": "code",
   "execution_count": null,
   "metadata": {},
   "outputs": [],
   "source": []
  },
  {
   "cell_type": "code",
   "execution_count": null,
   "metadata": {},
   "outputs": [],
   "source": []
  }
 ],
 "metadata": {
  "kernelspec": {
   "display_name": "Python 3",
   "language": "python",
   "name": "python3"
  },
  "language_info": {
   "codemirror_mode": {
    "name": "ipython",
    "version": 3
   },
   "file_extension": ".py",
   "mimetype": "text/x-python",
   "name": "python",
   "nbconvert_exporter": "python",
   "pygments_lexer": "ipython3",
   "version": "3.6.4"
  }
 },
 "nbformat": 4,
 "nbformat_minor": 2
}
