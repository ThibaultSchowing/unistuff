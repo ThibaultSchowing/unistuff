{
 "cells": [
  {
   "cell_type": "markdown",
   "metadata": {},
   "source": [
    "# HW0 - Image and Signal processing \n",
    "\n",
    "Thibault Schowing\n",
    "\n",
    "Master in Bioinformatics and computational biology\n",
    "\n"
   ]
  },
  {
   "cell_type": "markdown",
   "metadata": {},
   "source": [
    "## Exercice 1"
   ]
  },
  {
   "cell_type": "code",
   "execution_count": 116,
   "metadata": {},
   "outputs": [
    {
     "data": {
      "text/plain": [
       "0"
      ]
     },
     "execution_count": 116,
     "metadata": {},
     "output_type": "execute_result"
    },
    {
     "data": {
      "image/png": "[encoded data removed]",
      "text/plain": [
       "<Figure size 432x288 with 1 Axes>"
      ]
     },
     "metadata": {
      "needs_background": "light"
     },
     "output_type": "display_data"
    }
   ],
   "source": [
    "import numpy as np\n",
    "import matplotlib.pyplot as plt\n",
    "\n",
    "\n",
    "def ex_0(a,b,c):\n",
    "    if(a < 0 | b < 0):\n",
    "        return -1\n",
    "    else:\n",
    "        # a = start, b = end, c = space \n",
    "        x = np.arange(a,b+1,c)\n",
    "        y = np.cos(np.exp(-x/100)) + np.sqrt(x) + 1\n",
    "        plt.plot(x,y)\n",
    "        return 0\n",
    "        \n",
    "ex_0(1,55,2)"
   ]
  },
  {
   "cell_type": "markdown",
   "metadata": {},
   "source": [
    "## Exercise 2\n",
    "\n",
    "Useful ressources:\n",
    "https://scikit-image.org/\n",
    "https://scipy-lectures.org/advanced/image_processing/\n",
    "\n",
    "Forum help\n",
    "https://stackoverflow.com/questions/12138339/finding-the-x-y-indexes-of-specific-r-g-b-color-values-from-images-stored-in\n",
    "\n",
    "Numpy and images\n",
    "https://www.pythoninformer.com/python-libraries/numpy/numpy-and-images/\n"
   ]
  },
  {
   "cell_type": "code",
   "execution_count": 28,
   "metadata": {},
   "outputs": [
    {
     "name": "stdout",
     "output_type": "stream",
     "text": [
      "Hello there!\n",
      "Creating and displaying an  25 x  25  image.\n"
     ]
    },
    {
     "data": {
      "image/png": "[encoded data removed]",
      "text/plain": [
       "<Figure size 432x288 with 1 Axes>"
      ]
     },
     "metadata": {
      "needs_background": "light"
     },
     "output_type": "display_data"
    },
    {
     "name": "stdout",
     "output_type": "stream",
     "text": [
      "Computing distances...\n",
      "Mean :  10.824385457359185\n",
      "Median :  10.700237713501828\n",
      "Standart deviation :  4.85958580615191\n"
     ]
    },
    {
     "data": {
      "image/png": "[encoded data removed]",
      "text/plain": [
       "<Figure size 432x288 with 1 Axes>"
      ]
     },
     "metadata": {
      "needs_background": "light"
     },
     "output_type": "display_data"
    },
    {
     "name": "stdout",
     "output_type": "stream",
     "text": [
      "End.\n"
     ]
    }
   ],
   "source": [
    "from scipy import ndimage\n",
    "from PIL import Image\n",
    "import matplotlib.pyplot as plt\n",
    "\n",
    "import numpy as np\n",
    "import random\n",
    "\n",
    "# To verify distances\n",
    "from scipy.spatial import distance\n",
    "\n",
    "\n",
    "def display_img(img):\n",
    "        # If image is a file or to display it: \n",
    "    \n",
    "    %matplotlib inline \n",
    "    plt.imshow(img)\n",
    "    plt.show()\n",
    "    \n",
    "    #img = Image.fromarray(t, 'RGB')\n",
    "    #img.save('img.png')\n",
    "    #img.show()\n",
    "\n",
    "def create_image(n,m):\n",
    "    \n",
    "    # Next time - try to use \"nditer\" -> complex but use vectorization\n",
    "    \n",
    "    # Create a n x m image of black pixels\n",
    "    t = np.zeros(shape=(n,m,3), dtype=np.uint8)\n",
    "    \n",
    "    # Randomly change the R between 0 and 255\n",
    "    for i in range(n):\n",
    "        for j in range(m):\n",
    "            t[i,j] = [np.random.choice([0,255]),0,0]\n",
    "    \n",
    "    # Insert a random green pixel\n",
    "    t[np.random.randint(0,n),np.random.randint(0,m)] = [0,255,0]\n",
    "\n",
    "    return t\n",
    "\n",
    "def find_pixels(img, pixel_values):\n",
    "    # Use if image is a file\n",
    "    #img = Image.open(path, mode='r')\n",
    "    #img = np.array(img)\n",
    "    \n",
    "    \n",
    "    # Get the coordinates (x and y separately) of the pixels matching the pixel_value\n",
    "    coord_raw = np.where(np.all(img == pixel_values, axis = -1))\n",
    "    \n",
    "    # np.where returns a tuple with two vectors containing x and y coordinates \n",
    "    # Here they are put in a single matrix\n",
    "    ret_coord = np.column_stack((coord_raw[0],coord_raw[1]))\n",
    "    \n",
    "    return(ret_coord)\n",
    "    \n",
    "# Take an image and compute the distances between the one green pixel and all the red ones. \n",
    "def compute_distances(img):\n",
    "    \n",
    "    # Get the coordinates of the green pixel and all the red ones\n",
    "    green = [0,255,0]\n",
    "    red = [255,0,0]\n",
    "    coord_green = find_pixels(img, green)\n",
    "    coord_red = find_pixels(img, red)\n",
    "    \n",
    "    # Calculate distances between the green pixel and all the red ones\n",
    "    \n",
    "    #                coord_red[...,0] = all y                    coord_red[...,1] = all x\n",
    "    dists = np.sqrt((coord_red[...,0] - coord_green[0][0])**2 + (coord_red[...,1] - coord_green[0][1])**2)\n",
    "    \n",
    "    \n",
    "    #function to confirm results from scipy.spatial - the two histograms are plot later\n",
    "    conf_dists = distance.cdist(coord_green, coord_red, 'euclidean')\n",
    "    \n",
    "    # Return both calculated distances in a vector form (flattened in 1 dimention)\n",
    "    return (dists.flatten(), conf_dists.flatten())\n",
    "\n",
    "\n",
    "\n",
    "# Plot the given vector in a histogram with 100 bins\n",
    "def display_results(dists):\n",
    "    # mandatory for Jupyter notebook\n",
    "    %matplotlib inline \n",
    "    plt.hist(dists, bins = 100)\n",
    "    plt.show()\n",
    "    return 1\n",
    "\n",
    "\n",
    "n = 25\n",
    "m = 25\n",
    "print(\"Hello there!\\nCreating and displaying an \", n, \"x \", m, \" image.\")\n",
    "\n",
    "img = create_image(n,m)\n",
    "display_img(img)\n",
    "\n",
    "\n",
    "print(\"Computing distances...\")\n",
    "dists = compute_distances(img)\n",
    "\n",
    "# Displaying requested values\n",
    "print(\"Mean : \", np.mean(dists[0]))\n",
    "print(\"Median : \", np.median(dists[0]))\n",
    "print(\"Standart deviation : \", np.std(dists[0]))\n",
    "\n",
    "display_results(dists[0])\n",
    "\n",
    "# Confirmation from library (not necessary)\n",
    "# display_results(dists[1])\n",
    "\n",
    "print(\"End.\")\n",
    "\n",
    "\n",
    "\n"
   ]
  },
  {
   "cell_type": "markdown",
   "metadata": {},
   "source": [
    "# Exercise 3\n",
    "\n",
    "Using the image stopturnsigns.jpg from ILIAS, try to find the threshold values tmin, tmax, such that a mask m contains only pixels of the stop sign. An example of such a boolean binary mask can be seen below."
   ]
  },
  {
   "cell_type": "code",
   "execution_count": null,
   "metadata": {},
   "outputs": [],
   "source": [
    "\n",
    "\n",
    "\n",
    "\n"
   ]
  }
 ],
 "metadata": {
  "kernelspec": {
   "display_name": "Python 3",
   "language": "python",
   "name": "python3"
  },
  "language_info": {
   "codemirror_mode": {
    "name": "ipython",
    "version": 3
   },
   "file_extension": ".py",
   "mimetype": "text/x-python",
   "name": "python",
   "nbconvert_exporter": "python",
   "pygments_lexer": "ipython3",
   "version": "3.6.4"
  }
 },
 "nbformat": 4,
 "nbformat_minor": 2
}
