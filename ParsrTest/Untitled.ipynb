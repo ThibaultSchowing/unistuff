{
 "cells": [
  {
   "cell_type": "code",
   "execution_count": null,
   "metadata": {},
   "outputs": [],
   "source": [
    "import requests\n",
    "\n",
    "\n",
    "\n",
    "url = 'http://localhost:3001/api/v1/document'\n",
    "\n",
    "with open('test.pdf') as f:\n",
    "    files = {'file': f.read()}\n",
    "    r = requests.post(url, files=files)\n",
    "\n",
    "print(r.status_code)\n",
    "print(r.json())"
   ]
  },
  {
   "cell_type": "code",
   "execution_count": null,
   "metadata": {},
   "outputs": [],
   "source": [
    "curl -X POST \\\n",
    "  http://localhost:3001/api/v1/document \\\n",
    "  -H 'Content-Type: multipart/form-data' \\\n",
    "  -F 'file=@C:/Users/thsch/Desktop/unistuff/ParsrTest/test.pdf;type=application/pdf' \\\n",
    "    -F 'config=@/api/v1/default-config;type=application/json'  \n"
   ]
  }
 ],
 "metadata": {
  "kernelspec": {
   "display_name": "Python 3",
   "language": "python",
   "name": "python3"
  },
  "language_info": {
   "codemirror_mode": {
    "name": "ipython",
    "version": 3
   },
   "file_extension": ".py",
   "mimetype": "text/x-python",
   "name": "python",
   "nbconvert_exporter": "python",
   "pygments_lexer": "ipython3",
   "version": "3.6.4"
  }
 },
 "nbformat": 4,
 "nbformat_minor": 2
}
